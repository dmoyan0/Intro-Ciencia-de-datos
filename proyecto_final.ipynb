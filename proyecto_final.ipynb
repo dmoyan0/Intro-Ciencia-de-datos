{
  "cells": [
    {
      "cell_type": "code",
      "execution_count": null,
      "metadata": {
        "colab": {
          "base_uri": "https://localhost:8080/"
        },
        "id": "xzEN7J1xZS0X",
        "outputId": "4f51ea2f-3683-4c85-8d28-57b7314284b8"
      },
      "outputs": [],
      "source": [
        "!pip install pmdarima\n",
        "!pip install skforecast"
      ]
    },
    {
      "cell_type": "code",
      "execution_count": null,
      "metadata": {
        "id": "Hv9z5Cw1ZNnd"
      },
      "outputs": [],
      "source": [
        "import pandas as pd\n",
        "import matplotlib.pyplot as plt\n",
        "import plotly.express as px\n",
        "import plotly.graph_objects as go"
      ]
    },
    {
      "cell_type": "code",
      "execution_count": null,
      "metadata": {
        "id": "bK4QouK6bXsu"
      },
      "outputs": [],
      "source": [
        "import numpy as np\n",
        "import pandas as pd\n",
        "from io import StringIO\n",
        "import contextlib\n",
        "import re\n",
        "import matplotlib.pyplot as plt\n",
        "plt.style.use('seaborn-v0_8-darkgrid')\n",
        "\n",
        "# pmdarima\n",
        "from pmdarima import ARIMA\n",
        "from pmdarima import auto_arima\n",
        "\n",
        "# statsmodels\n",
        "from statsmodels.tsa.statespace.sarimax import SARIMAX\n",
        "from statsmodels.tsa.stattools import adfuller\n",
        "from statsmodels.tsa.stattools import kpss\n",
        "from statsmodels.graphics.tsaplots import plot_acf, plot_pacf\n",
        "from statsmodels.tsa.seasonal import seasonal_decompose\n",
        "\n",
        "# skforecast\n",
        "import skforecast\n",
        "from skforecast.datasets import fetch_dataset\n",
        "from skforecast.Sarimax import Sarimax\n",
        "from skforecast.ForecasterSarimax import ForecasterSarimax\n",
        "from skforecast.model_selection_sarimax import backtesting_sarimax\n",
        "from skforecast.model_selection_sarimax import grid_search_sarimax\n",
        "from sklearn.metrics import mean_absolute_error\n",
        "\n",
        "import warnings"
      ]
    },
    {
      "cell_type": "code",
      "execution_count": null,
      "metadata": {
        "id": "aS9q324_ZNne"
      },
      "outputs": [],
      "source": [
        "#df1 = pd.read_csv(\"Crime_Data_from_2020_to_Present.csv\")\n",
        "#df2 = pd.read_csv(\"Sheriff_and_Police_Stations.csv\")\n",
        "df1 = pd.read_csv('Crime_Data_from_2020_to_Present.csv')\n",
        "df2 = pd.read_csv('Sheriff_and_Police_Stations.csv')"
      ]
    },
    {
      "cell_type": "code",
      "execution_count": null,
      "metadata": {
        "id": "CfbSE-xmZNnf"
      },
      "outputs": [],
      "source": [
        "df1['DATE OCC'] = pd.to_datetime(df1['DATE OCC'], format='%m/%d/%Y %I:%M:%S %p')\n",
        "\n",
        "df1['YearMonth'] = df1['DATE OCC'].dt.to_period('M').astype(str)\n",
        "df1 = df1.sort_values(by='DATE OCC')\n",
        "# Crear el gráfico de dispersión con un control deslizante para cambiar las fechas\n",
        "fig = px.scatter_mapbox(df1, lat=\"LAT\", lon=\"LON\", color=\"Crm Cd Desc\", hover_name=\"Crm Cd Desc\",\n",
        "                        hover_data=[\"DATE OCC\", \"AREA NAME\", \"Vict Sex\", \"Vict Age\"],\n",
        "                        animation_frame=\"YearMonth\", zoom=10, height=600)\n",
        "\n",
        "fig.update_layout(\n",
        "    mapbox_style=\"open-street-map\",\n",
        "    margin={\"r\":0,\"t\":0,\"l\":0,\"b\":0},\n",
        "    clickmode='event+select'\n",
        ")\n",
        "\n",
        "police_stations = go.Scattermapbox(\n",
        "    lat=df2['latitude'],\n",
        "    lon=df2['longitude'],\n",
        "    text=df2['name'],\n",
        "    hoverinfo='text',\n",
        "    mode='markers',\n",
        "    marker=dict(size=10, color='blue', opacity=0.8),\n",
        "    name='Estaciones de Policía'\n",
        ")\n",
        "\n",
        "# Añadir el scattermapbox de las estaciones de policía a cada frame\n",
        "for frame in fig.frames:\n",
        "    frame.data += (go.Scattermapbox(\n",
        "        lat=df2['latitude'],\n",
        "        lon=df2['longitude'],\n",
        "        text=df2['name'],\n",
        "        hoverinfo='text',\n",
        "        mode='markers',\n",
        "        marker=dict(size=10, color='blue', opacity=0.8),\n",
        "        name='Estaciones de Policía'\n",
        "    ),)\n",
        "\n",
        "# Añadir el scattermapbox de las estaciones de policía a la figura principal\n",
        "fig.add_trace(police_stations)\n",
        "\n",
        "# Forzar la actualización de los frames para asegurar que contengan las estaciones de policía\n",
        "fig.update(frames=fig.frames)\n",
        "\n",
        "fig.show()"
      ]
    },
    {
      "cell_type": "code",
      "execution_count": null,
      "metadata": {
        "id": "UGIHXVTO5Fuw"
      },
      "outputs": [],
      "source": [
        "df1['DATE OCC'] = pd.to_datetime(df1['DATE OCC'], format='%m/%d/%Y %I:%M:%S %p')\n",
        "df1['YearMonth'] = df1['DATE OCC'].dt.to_period('M').astype(str)\n",
        "crimes_per_zone_time = df1.groupby(['AREA NAME', 'YearMonth']).size().reset_index(name='CrimeCount')\n",
        "fig = px.bar(crimes_per_zone_time,\n",
        "             x='AREA NAME',\n",
        "             y='CrimeCount',\n",
        "             color='AREA NAME',\n",
        "             animation_frame='YearMonth',\n",
        "             animation_group='AREA NAME',\n",
        "             range_y=[0, crimes_per_zone_time['CrimeCount'].max()],\n",
        "             title='Crímenes por Zona a lo largo del tiempo')\n",
        "fig.show()"
      ]
    },
    {
      "cell_type": "code",
      "execution_count": null,
      "metadata": {
        "colab": {
          "base_uri": "https://localhost:8080/",
          "height": 1000
        },
        "id": "1GkR3O85ZNnf",
        "outputId": "983059ad-17c2-477e-b7b6-dfcb165909e8"
      },
      "outputs": [],
      "source": [
        "# Convertir la columna 'DATE OCC' a tipo datetime\n",
        "df1['DATE OCC'] = pd.to_datetime(df1['DATE OCC'], format='%m/%d/%Y %I:%M:%S %p')\n",
        "\n",
        "# Establecer 'DATE OCC' como índice\n",
        "df1.set_index('DATE OCC', inplace=True)\n",
        "\n",
        "# Resamplear los datos por mes y contar el número de crímenes en cada mes\n",
        "crimes_per_month = df1.resample('M').size()\n",
        "\n",
        "# Crear el gráfico de la serie de tiempo\n",
        "plt.figure(figsize=(12, 6))\n",
        "plt.plot(crimes_per_month, marker='o', linestyle='-')\n",
        "plt.title('Número de crímenes por mes en Los Ángeles')\n",
        "plt.xlabel('Fecha')\n",
        "plt.ylabel('Número de crímenes')\n",
        "plt.grid(True)\n",
        "plt.show()\n",
        "\n",
        "# Mostrar patrones y tendencias utilizando un promedio móvil\n",
        "crimes_per_month_rolling = crimes_per_month.rolling(window=12).mean()\n",
        "\n",
        "# Crear el gráfico de la serie de tiempo con la tendencia\n",
        "plt.figure(figsize=(12, 6))\n",
        "plt.plot(crimes_per_month, marker='o', linestyle='-', label='Crímenes por mes')\n",
        "plt.plot(crimes_per_month_rolling, marker='o', linestyle='-', color='red', label='Promedio móvil (12 meses)')\n",
        "plt.title('Número de crímenes por mes en Los Ángeles con tendencia')\n",
        "plt.xlabel('Fecha')\n",
        "plt.ylabel('Número de crímenes')\n",
        "plt.legend()\n",
        "plt.grid(True)\n",
        "plt.show()"
      ]
    },
    {
      "cell_type": "code",
      "execution_count": null,
      "metadata": {
        "colab": {
          "base_uri": "https://localhost:8080/",
          "height": 560
        },
        "id": "o2n6K7MYZNng",
        "outputId": "ee310f93-c8ec-4e46-f461-1e920145c34f"
      },
      "outputs": [],
      "source": [
        "df1 = df1.sort_values(by='DATE OCC')\n",
        "train_size = int(len(df1) * 0.8)\n",
        "\n",
        "#train = df1[:train_size]\n",
        "#test = df1[train_size:]\n",
        "#crimes_per_day_train = train.resample('W').size()\n",
        "#crimes_per_day_test = test.resample('W').size()\n",
        "\n",
        "original_date = df1.iloc[train_size,1]\n",
        "original_date = pd.to_datetime(original_date)\n",
        "new_date = original_date - pd.offsets.Week(weekday=6)\n",
        "mes_siguiente = new_date + pd.offsets.Week(weekday=0)\n",
        "\n",
        "# Divide los datos en conjuntos de entrenamiento y prueba\n",
        "train_graph = df1[:new_date]\n",
        "test_graph  = df1[mes_siguiente:]\n",
        "\n",
        "crimes_train = train_graph.resample('W').size()\n",
        "crimes_test = test_graph.resample('W').size()\n",
        "\n",
        "# Crear el gráfico de la serie de tiempo\n",
        "plt.figure(figsize=(12, 6))\n",
        "plt.plot(crimes_train, marker='o', linestyle='-')\n",
        "plt.plot(crimes_test, marker='o', linestyle='-')\n",
        "plt.plot([crimes_train.index[-1], crimes_test.index[0]],\n",
        "         [crimes_train.iloc[-1], crimes_test.iloc[0]],\n",
        "         color='gray', linestyle='--', linewidth=2)\n",
        "plt.title('Número de crímenes por mes en Los Ángeles')\n",
        "plt.xlabel('Fecha')\n",
        "plt.ylabel('Número de crímenes')\n",
        "plt.grid(True)\n",
        "plt.show()\n"
      ]
    },
    {
      "cell_type": "code",
      "execution_count": null,
      "metadata": {
        "id": "3dMvkeYkZNng"
      },
      "outputs": [],
      "source": [
        "from statsmodels.tsa.stattools import adfuller\n",
        "from statsmodels.tsa.stattools import kpss\n",
        "import warnings\n",
        "from statsmodels.graphics.tsaplots import plot_acf, plot_pacf\n",
        "from statsmodels.tsa.seasonal import seasonal_decompose"
      ]
    },
    {
      "cell_type": "code",
      "execution_count": null,
      "metadata": {
        "colab": {
          "base_uri": "https://localhost:8080/",
          "height": 843
        },
        "id": "5ewtV8oIZNnh",
        "outputId": "0170faff-75eb-4f04-85a0-54236f0ab903"
      },
      "outputs": [],
      "source": [
        "warnings.filterwarnings(\"ignore\")\n",
        "diff_1 = crimes_train.diff().dropna()\n",
        "diff_2 = diff_1.diff().dropna()\n",
        "diff_3 = diff_2.diff().dropna()\n",
        "\n",
        "print('Test estacionariedad serie original')\n",
        "print('-------------------------------------')\n",
        "adfuller_result = adfuller(crimes_train)\n",
        "kpss_result = kpss(crimes_train)\n",
        "print(f'ADF Statistic: {adfuller_result[0]}, p-value: {adfuller_result[1]}')\n",
        "print(f'KPSS Statistic: {kpss_result[0]}, p-value: {kpss_result[1]}')\n",
        "\n",
        "print('\\nTest estacionariedad para serie diferenciada (order=1)')\n",
        "print('--------------------------------------------------')\n",
        "adfuller_result = adfuller(diff_1)\n",
        "kpss_result = kpss(diff_1.diff().dropna())\n",
        "print(f'ADF Statistic: {adfuller_result[0]}, p-value: {adfuller_result[1]}')\n",
        "print(f'KPSS Statistic: {kpss_result[0]}, p-value: {kpss_result[1]}')\n",
        "\n",
        "print('\\nTest estacionariedad para serie diferenciada (order=2)')\n",
        "print('--------------------------------------------------')\n",
        "adfuller_result = adfuller(diff_2)\n",
        "kpss_result = kpss(diff_2.diff().diff().dropna())\n",
        "print(f'ADF Statistic: {adfuller_result[0]}, p-value: {adfuller_result[1]}')\n",
        "print(f'KPSS Statistic: {kpss_result[0]}, p-value: {kpss_result[1]}')\n",
        "\n",
        "print('\\nTest estacionariedad para serie diferenciada (order=3)')\n",
        "print('--------------------------------------------------')\n",
        "adfuller_result = adfuller(diff_3)\n",
        "kpss_result = kpss(diff_3.diff().diff().dropna())\n",
        "print(f'ADF Statistic: {adfuller_result[0]}, p-value: {adfuller_result[1]}')\n",
        "print(f'KPSS Statistic: {kpss_result[0]}, p-value: {kpss_result[1]}')\n",
        "warnings.filterwarnings(\"default\")\n",
        "\n",
        "\n",
        "fig, axs = plt.subplots(nrows=4, ncols=1, figsize=(7, 5), sharex=True)\n",
        "crimes_train.plot(ax=axs[0], title='Serie original')\n",
        "diff_1.plot(ax=axs[1], title='Diferenciación orden 1')\n",
        "diff_2.plot(ax=axs[2], title='Diferenciación orden 2')\n",
        "diff_3.plot(ax=axs[3], title='Diferenciación orden 3')"
      ]
    },
    {
      "cell_type": "markdown",
      "metadata": {
        "id": "IL-IYTLkZNnh"
      },
      "source": [
        "El p-value obtenido tras la primera diferenciación es estadísticamente significativo acorde al umbral ampliamente reconocido y aceptado de 0.05. Por lo tanto, la selección más adecuada para el parámetro ARIMA 𝑑 es 3."
      ]
    },
    {
      "cell_type": "code",
      "execution_count": null,
      "metadata": {
        "colab": {
          "base_uri": "https://localhost:8080/",
          "height": 918
        },
        "id": "YwBnitwdZNni",
        "outputId": "d30fb453-2ad7-42d5-8f56-a159d125b48a"
      },
      "outputs": [],
      "source": [
        "fig, axs = plt.subplots(nrows=2, ncols=1, figsize=(12, 10), sharex=True)\n",
        "\n",
        "\n",
        "plot_acf(diff_2, ax=axs[0], lags=38, alpha=0.05)\n",
        "axs[0].set_title('Autocorrelación serie diferenciada (order=2)')\n",
        "axs[0].set_ylabel('ACF')\n",
        "\n",
        "\n",
        "plot_pacf(diff_2, ax=axs[1], lags=18, alpha=0.05)\n",
        "axs[1].set_title('Autocorrelación parcial serie diferenciada (order=2)')\n",
        "axs[1].set_ylabel('PACF')"
      ]
    },
    {
      "cell_type": "markdown",
      "metadata": {
        "id": "ZvrvqpB9ZNnj"
      },
      "source": [
        "Acorde a la función de autocorrelación, el valor óptimo para el parámetro 𝑝 es 1. Sin embargo, se va a asignar un valor de 1 para proporcionar un componente autorregresivo al modelo. En cuanto al componente 𝑞 , la función de autocorrelación parcial sugiere un valor de 6."
      ]
    },
    {
      "cell_type": "code",
      "execution_count": null,
      "metadata": {
        "colab": {
          "base_uri": "https://localhost:8080/",
          "height": 609
        },
        "id": "qyWfTVmgZNnj",
        "outputId": "953c2ec9-bef8-4e8c-97f6-6174c4b9c966"
      },
      "outputs": [],
      "source": [
        "res_decompose = seasonal_decompose(crimes_train, model='additive', extrapolate_trend='freq')\n",
        "res_descompose_diff_2 = seasonal_decompose(diff_2, model='additive', extrapolate_trend='freq')\n",
        "\n",
        "fig, axs = plt.subplots(nrows=4, ncols=2, figsize=(9, 6), sharex=True)\n",
        "res_decompose.observed.plot(ax=axs[0, 0])\n",
        "axs[0, 0].set_title('Serie original')\n",
        "res_decompose.trend.plot(ax=axs[1, 0])\n",
        "axs[1, 0].set_title('Tendencia')\n",
        "res_decompose.seasonal.plot(ax=axs[2, 0])\n",
        "axs[2, 0].set_title('Estacionalidad')\n",
        "res_decompose.resid.plot(ax=axs[3, 0])\n",
        "axs[3, 0].set_title('Residuos')\n",
        "res_descompose_diff_2.observed.plot(ax=axs[0, 1])\n",
        "axs[0, 1].set_title('Series diferenciadas (order=3)')\n",
        "res_descompose_diff_2.trend.plot(ax=axs[1, 1])\n",
        "axs[1, 1].set_title('Tendencia')\n",
        "res_descompose_diff_2.seasonal.plot(ax=axs[2, 1])\n",
        "axs[2, 1].set_title('Estacionalidad')\n",
        "res_descompose_diff_2.resid.plot(ax=axs[3, 1])\n",
        "axs[3, 1].set_title('Residuos')\n",
        "fig.suptitle('Descomposición de la serie original vs serie diferenciada', fontsize=14)\n",
        "fig.tight_layout()"
      ]
    },
    {
      "cell_type": "markdown",
      "metadata": {
        "id": "-53d6JXtZNnk"
      },
      "source": [
        "El patrón recurrente cada 2 meses sugiere una estacionalidad anual, probablemente influenciada por factores vacacionales. El gráfico de ACF respalda aún más la presencia de esta estacionalidad, ya que se observan picos significativos en los lags correspondientes a los intervalos de 2 meses, confirmando la idea de patrones recurrentes."
      ]
    },
    {
      "cell_type": "code",
      "execution_count": null,
      "metadata": {
        "colab": {
          "base_uri": "https://localhost:8080/"
        },
        "id": "NfsXf07cRJSp",
        "outputId": "a5bac144-6450-488f-b32f-a76934d06f69"
      },
      "outputs": [],
      "source": [
        "modelo = auto_arima(\n",
        "            y                 = crimes_train,\n",
        "            start_p           = 0,\n",
        "            start_q           = 0,\n",
        "            max_p             = 3,\n",
        "            max_q             = 3,\n",
        "            seasonal          = True,\n",
        "            test              = 'adf',\n",
        "            m                 = 4, # periodicidad de la estacionalidad\n",
        "            d                 = None, # El algoritmo determina 'd'\n",
        "            D                 = None, # El algoritmo determina 'D'\n",
        "            trace             = True,\n",
        "            error_action      = 'ignore',\n",
        "            suppress_warnings = True,\n",
        "            stepwise          = True\n",
        "        )"
      ]
    },
    {
      "cell_type": "code",
      "execution_count": null,
      "metadata": {
        "id": "2WB_mi7HZNnk"
      },
      "outputs": [],
      "source": [
        "warnings.filterwarnings(\"ignore\", category=UserWarning, message='Non-invertible|Non-stationary')\n",
        "modelo = SARIMAX(endog = crimes_train, order = (1, 0, 2), seasonal_order = (0, 0, 2, 4))\n",
        "modelo_res = modelo.fit(disp=0)\n",
        "warnings.filterwarnings(\"default\")\n",
        "predicciones_statsmodels = modelo_res.get_forecast(steps=len(crimes_test)).predicted_mean"
      ]
    },
    {
      "cell_type": "code",
      "execution_count": null,
      "metadata": {
        "id": "IZ_QkWxOZNnk"
      },
      "outputs": [],
      "source": [
        "warnings.filterwarnings(\"ignore\", category=UserWarning, message='Non-invertible|Non-stationary')\n",
        "modelo = Sarimax(order = (1, 0, 2), seasonal_order = (0, 0, 2, 4))\n",
        "modelo.fit(y=crimes_train)\n",
        "warnings.filterwarnings(\"default\")\n",
        "predicciones_skforecast = modelo.predict(steps=len(crimes_test))"
      ]
    },
    {
      "cell_type": "code",
      "execution_count": null,
      "metadata": {
        "id": "ThxAR0VcZNnk"
      },
      "outputs": [],
      "source": [
        "modelo = ARIMA(order = (1, 0, 2), seasonal_order = (0, 0, 2, 4))\n",
        "modelo.fit(y=crimes_train)\n",
        "predicciones_pdmarima = modelo.predict(len(crimes_test))"
      ]
    },
    {
      "cell_type": "code",
      "execution_count": null,
      "metadata": {
        "colab": {
          "base_uri": "https://localhost:8080/",
          "height": 381
        },
        "id": "NZtGIdr0ZNnl",
        "outputId": "dead2f20-115b-44b9-eacf-9eb68232a92b"
      },
      "outputs": [],
      "source": [
        "fig, ax = plt.subplots(figsize=(7, 3))\n",
        "crimes_train.plot(ax=ax, label='train')\n",
        "crimes_test.plot(ax=ax, label='test')\n",
        "predicciones_skforecast.columns = ['skforecast']\n",
        "predicciones_skforecast.plot(ax=ax, label='skforecast')\n",
        "predicciones_pdmarima.plot(ax=ax, label='pmdarima')\n",
        "predicciones_statsmodels.plot(ax=ax, label='statsmodels')\n",
        "ax.set_title('Predicciones con modelos ARIMA')\n",
        "ax.legend();"
      ]
    },
    {
      "cell_type": "markdown",
      "metadata": {
        "id": "X11lKSX25Pjr"
      },
      "source": [
        "Statsmodel y Skforecast son iguales"
      ]
    },
    {
      "cell_type": "code",
      "execution_count": null,
      "metadata": {
        "id": "PMyHociMyiD-"
      },
      "outputs": [],
      "source": [
        "forecaster = ForecasterSarimax(\n",
        "                 regressor=Sarimax(order = (1, 0, 2), seasonal_order = (0, 0, 2, 4))\n",
        "             )\n",
        "forecaster.fit(y=crimes_train, suppress_warnings=True)\n",
        "\n",
        "# Predicción\n",
        "predicciones = forecaster.predict(steps=len(crimes_test))"
      ]
    },
    {
      "cell_type": "code",
      "execution_count": null,
      "metadata": {
        "colab": {
          "base_uri": "https://localhost:8080/",
          "height": 850,
          "referenced_widgets": [
            "c5622fb6f3084c6c94e0c870f693c371",
            "942d8218cd9245b49d70c6ef879b8e7c",
            "ca9f2f138e6d4f619b685fdded86588f",
            "03fe03950ae6465abcb4a33f2845f6cd",
            "2f579ba7a0394367b745c1a574e5c8d0",
            "f663da90d63b4808b0a83ef07989c23a",
            "4a2f2b9817d54b8faf5a17ea395fc190",
            "09c1792f9ee049a886af5939b33731dc",
            "6d984b7173ba47b6b76812001a93810c",
            "82e4e3e7653e44e899b8866cb517e009",
            "0292cade096e49f9be7401267d557706"
          ]
        },
        "id": "Dgd7PMuu2w9V",
        "outputId": "52da481b-7bde-4015-c471-f1a8782e9afb"
      },
      "outputs": [],
      "source": [
        "forecaster = ForecasterSarimax(\n",
        "                 regressor=Sarimax(\n",
        "                                order = (1, 0, 2),\n",
        "                                seasonal_order = (0, 0, 2, 4),\n",
        "                                maxiter=200\n",
        "                            )\n",
        "             )\n",
        "metrica, predicciones = backtesting_sarimax(\n",
        "                            forecaster            = forecaster,\n",
        "                            y                     = pd.concat([crimes_train, crimes_test]),\n",
        "                            initial_train_size    = len(crimes_train),\n",
        "                            fixed_train_size      = False,\n",
        "                            steps                 = 4,\n",
        "                            metric                = 'mean_absolute_error',\n",
        "                            refit                 = True,\n",
        "                            n_jobs                = \"auto\",\n",
        "                            suppress_warnings_fit = True,\n",
        "                            verbose               = True,\n",
        "                            show_progress         = True\n",
        "                        )"
      ]
    },
    {
      "cell_type": "code",
      "execution_count": null,
      "metadata": {
        "colab": {
          "base_uri": "https://localhost:8080/",
          "height": 397
        },
        "id": "P92Dh8ZI3WvT",
        "outputId": "7a97077a-a140-4ad4-f4c3-fcc13637ae65"
      },
      "outputs": [],
      "source": [
        "fig, ax = plt.subplots(figsize=(6, 3))\n",
        "crimes_test.plot(ax=ax, label='test')\n",
        "predicciones.plot(ax=ax)\n",
        "ax.set_title('Predicciones de backtesting con un modelo SARIMA')\n",
        "ax.legend()"
      ]
    }
  ],
  "metadata": {
    "colab": {
      "provenance": []
    },
    "kernelspec": {
      "display_name": "Python 3",
      "language": "python",
      "name": "python3"
    },
    "language_info": {
      "codemirror_mode": {
        "name": "ipython",
        "version": 3
      },
      "file_extension": ".py",
      "mimetype": "text/x-python",
      "name": "python",
      "nbconvert_exporter": "python",
      "pygments_lexer": "ipython3",
      "version": "3.10.7"
    },
    "widgets": {
      "application/vnd.jupyter.widget-state+json": {
        "0292cade096e49f9be7401267d557706": {
          "model_module": "@jupyter-widgets/controls",
          "model_module_version": "1.5.0",
          "model_name": "DescriptionStyleModel",
          "state": {
            "_model_module": "@jupyter-widgets/controls",
            "_model_module_version": "1.5.0",
            "_model_name": "DescriptionStyleModel",
            "_view_count": null,
            "_view_module": "@jupyter-widgets/base",
            "_view_module_version": "1.2.0",
            "_view_name": "StyleView",
            "description_width": ""
          }
        },
        "03fe03950ae6465abcb4a33f2845f6cd": {
          "model_module": "@jupyter-widgets/controls",
          "model_module_version": "1.5.0",
          "model_name": "HTMLModel",
          "state": {
            "_dom_classes": [],
            "_model_module": "@jupyter-widgets/controls",
            "_model_module_version": "1.5.0",
            "_model_name": "HTMLModel",
            "_view_count": null,
            "_view_module": "@jupyter-widgets/controls",
            "_view_module_version": "1.5.0",
            "_view_name": "HTMLView",
            "description": "",
            "description_tooltip": null,
            "layout": "IPY_MODEL_82e4e3e7653e44e899b8866cb517e009",
            "placeholder": "​",
            "style": "IPY_MODEL_0292cade096e49f9be7401267d557706",
            "value": " 11/11 [00:15&lt;00:00,  1.65s/it]"
          }
        },
        "09c1792f9ee049a886af5939b33731dc": {
          "model_module": "@jupyter-widgets/base",
          "model_module_version": "1.2.0",
          "model_name": "LayoutModel",
          "state": {
            "_model_module": "@jupyter-widgets/base",
            "_model_module_version": "1.2.0",
            "_model_name": "LayoutModel",
            "_view_count": null,
            "_view_module": "@jupyter-widgets/base",
            "_view_module_version": "1.2.0",
            "_view_name": "LayoutView",
            "align_content": null,
            "align_items": null,
            "align_self": null,
            "border": null,
            "bottom": null,
            "display": null,
            "flex": null,
            "flex_flow": null,
            "grid_area": null,
            "grid_auto_columns": null,
            "grid_auto_flow": null,
            "grid_auto_rows": null,
            "grid_column": null,
            "grid_gap": null,
            "grid_row": null,
            "grid_template_areas": null,
            "grid_template_columns": null,
            "grid_template_rows": null,
            "height": null,
            "justify_content": null,
            "justify_items": null,
            "left": null,
            "margin": null,
            "max_height": null,
            "max_width": null,
            "min_height": null,
            "min_width": null,
            "object_fit": null,
            "object_position": null,
            "order": null,
            "overflow": null,
            "overflow_x": null,
            "overflow_y": null,
            "padding": null,
            "right": null,
            "top": null,
            "visibility": null,
            "width": null
          }
        },
        "2f579ba7a0394367b745c1a574e5c8d0": {
          "model_module": "@jupyter-widgets/base",
          "model_module_version": "1.2.0",
          "model_name": "LayoutModel",
          "state": {
            "_model_module": "@jupyter-widgets/base",
            "_model_module_version": "1.2.0",
            "_model_name": "LayoutModel",
            "_view_count": null,
            "_view_module": "@jupyter-widgets/base",
            "_view_module_version": "1.2.0",
            "_view_name": "LayoutView",
            "align_content": null,
            "align_items": null,
            "align_self": null,
            "border": null,
            "bottom": null,
            "display": null,
            "flex": null,
            "flex_flow": null,
            "grid_area": null,
            "grid_auto_columns": null,
            "grid_auto_flow": null,
            "grid_auto_rows": null,
            "grid_column": null,
            "grid_gap": null,
            "grid_row": null,
            "grid_template_areas": null,
            "grid_template_columns": null,
            "grid_template_rows": null,
            "height": null,
            "justify_content": null,
            "justify_items": null,
            "left": null,
            "margin": null,
            "max_height": null,
            "max_width": null,
            "min_height": null,
            "min_width": null,
            "object_fit": null,
            "object_position": null,
            "order": null,
            "overflow": null,
            "overflow_x": null,
            "overflow_y": null,
            "padding": null,
            "right": null,
            "top": null,
            "visibility": null,
            "width": null
          }
        },
        "4a2f2b9817d54b8faf5a17ea395fc190": {
          "model_module": "@jupyter-widgets/controls",
          "model_module_version": "1.5.0",
          "model_name": "DescriptionStyleModel",
          "state": {
            "_model_module": "@jupyter-widgets/controls",
            "_model_module_version": "1.5.0",
            "_model_name": "DescriptionStyleModel",
            "_view_count": null,
            "_view_module": "@jupyter-widgets/base",
            "_view_module_version": "1.2.0",
            "_view_name": "StyleView",
            "description_width": ""
          }
        },
        "6d984b7173ba47b6b76812001a93810c": {
          "model_module": "@jupyter-widgets/controls",
          "model_module_version": "1.5.0",
          "model_name": "ProgressStyleModel",
          "state": {
            "_model_module": "@jupyter-widgets/controls",
            "_model_module_version": "1.5.0",
            "_model_name": "ProgressStyleModel",
            "_view_count": null,
            "_view_module": "@jupyter-widgets/base",
            "_view_module_version": "1.2.0",
            "_view_name": "StyleView",
            "bar_color": null,
            "description_width": ""
          }
        },
        "82e4e3e7653e44e899b8866cb517e009": {
          "model_module": "@jupyter-widgets/base",
          "model_module_version": "1.2.0",
          "model_name": "LayoutModel",
          "state": {
            "_model_module": "@jupyter-widgets/base",
            "_model_module_version": "1.2.0",
            "_model_name": "LayoutModel",
            "_view_count": null,
            "_view_module": "@jupyter-widgets/base",
            "_view_module_version": "1.2.0",
            "_view_name": "LayoutView",
            "align_content": null,
            "align_items": null,
            "align_self": null,
            "border": null,
            "bottom": null,
            "display": null,
            "flex": null,
            "flex_flow": null,
            "grid_area": null,
            "grid_auto_columns": null,
            "grid_auto_flow": null,
            "grid_auto_rows": null,
            "grid_column": null,
            "grid_gap": null,
            "grid_row": null,
            "grid_template_areas": null,
            "grid_template_columns": null,
            "grid_template_rows": null,
            "height": null,
            "justify_content": null,
            "justify_items": null,
            "left": null,
            "margin": null,
            "max_height": null,
            "max_width": null,
            "min_height": null,
            "min_width": null,
            "object_fit": null,
            "object_position": null,
            "order": null,
            "overflow": null,
            "overflow_x": null,
            "overflow_y": null,
            "padding": null,
            "right": null,
            "top": null,
            "visibility": null,
            "width": null
          }
        },
        "942d8218cd9245b49d70c6ef879b8e7c": {
          "model_module": "@jupyter-widgets/controls",
          "model_module_version": "1.5.0",
          "model_name": "HTMLModel",
          "state": {
            "_dom_classes": [],
            "_model_module": "@jupyter-widgets/controls",
            "_model_module_version": "1.5.0",
            "_model_name": "HTMLModel",
            "_view_count": null,
            "_view_module": "@jupyter-widgets/controls",
            "_view_module_version": "1.5.0",
            "_view_name": "HTMLView",
            "description": "",
            "description_tooltip": null,
            "layout": "IPY_MODEL_f663da90d63b4808b0a83ef07989c23a",
            "placeholder": "​",
            "style": "IPY_MODEL_4a2f2b9817d54b8faf5a17ea395fc190",
            "value": "100%"
          }
        },
        "c5622fb6f3084c6c94e0c870f693c371": {
          "model_module": "@jupyter-widgets/controls",
          "model_module_version": "1.5.0",
          "model_name": "HBoxModel",
          "state": {
            "_dom_classes": [],
            "_model_module": "@jupyter-widgets/controls",
            "_model_module_version": "1.5.0",
            "_model_name": "HBoxModel",
            "_view_count": null,
            "_view_module": "@jupyter-widgets/controls",
            "_view_module_version": "1.5.0",
            "_view_name": "HBoxView",
            "box_style": "",
            "children": [
              "IPY_MODEL_942d8218cd9245b49d70c6ef879b8e7c",
              "IPY_MODEL_ca9f2f138e6d4f619b685fdded86588f",
              "IPY_MODEL_03fe03950ae6465abcb4a33f2845f6cd"
            ],
            "layout": "IPY_MODEL_2f579ba7a0394367b745c1a574e5c8d0"
          }
        },
        "ca9f2f138e6d4f619b685fdded86588f": {
          "model_module": "@jupyter-widgets/controls",
          "model_module_version": "1.5.0",
          "model_name": "FloatProgressModel",
          "state": {
            "_dom_classes": [],
            "_model_module": "@jupyter-widgets/controls",
            "_model_module_version": "1.5.0",
            "_model_name": "FloatProgressModel",
            "_view_count": null,
            "_view_module": "@jupyter-widgets/controls",
            "_view_module_version": "1.5.0",
            "_view_name": "ProgressView",
            "bar_style": "success",
            "description": "",
            "description_tooltip": null,
            "layout": "IPY_MODEL_09c1792f9ee049a886af5939b33731dc",
            "max": 11,
            "min": 0,
            "orientation": "horizontal",
            "style": "IPY_MODEL_6d984b7173ba47b6b76812001a93810c",
            "value": 11
          }
        },
        "f663da90d63b4808b0a83ef07989c23a": {
          "model_module": "@jupyter-widgets/base",
          "model_module_version": "1.2.0",
          "model_name": "LayoutModel",
          "state": {
            "_model_module": "@jupyter-widgets/base",
            "_model_module_version": "1.2.0",
            "_model_name": "LayoutModel",
            "_view_count": null,
            "_view_module": "@jupyter-widgets/base",
            "_view_module_version": "1.2.0",
            "_view_name": "LayoutView",
            "align_content": null,
            "align_items": null,
            "align_self": null,
            "border": null,
            "bottom": null,
            "display": null,
            "flex": null,
            "flex_flow": null,
            "grid_area": null,
            "grid_auto_columns": null,
            "grid_auto_flow": null,
            "grid_auto_rows": null,
            "grid_column": null,
            "grid_gap": null,
            "grid_row": null,
            "grid_template_areas": null,
            "grid_template_columns": null,
            "grid_template_rows": null,
            "height": null,
            "justify_content": null,
            "justify_items": null,
            "left": null,
            "margin": null,
            "max_height": null,
            "max_width": null,
            "min_height": null,
            "min_width": null,
            "object_fit": null,
            "object_position": null,
            "order": null,
            "overflow": null,
            "overflow_x": null,
            "overflow_y": null,
            "padding": null,
            "right": null,
            "top": null,
            "visibility": null,
            "width": null
          }
        }
      }
    }
  },
  "nbformat": 4,
  "nbformat_minor": 0
}
