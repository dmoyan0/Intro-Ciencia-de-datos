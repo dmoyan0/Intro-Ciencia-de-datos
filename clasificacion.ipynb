{
 "cells": [
  {
   "cell_type": "code",
   "execution_count": 115,
   "metadata": {},
   "outputs": [],
   "source": [
    "import pandas as pd\n",
    "import csv\n"
   ]
  },
  {
   "cell_type": "markdown",
   "metadata": {},
   "source": [
    "#1 Carga y limpieza de datos\n"
   ]
  },
  {
   "cell_type": "code",
   "execution_count": 116,
   "metadata": {},
   "outputs": [],
   "source": [
    "#Archivo a trabajar\n",
    "file = 'EEG_eyes_classification.csv'\n",
    "file_filtered = 'filtered_file.csv'\n",
    "\"\"\"\n",
    "Informacion del archivo:\n",
    "-Class: b'1' = 0; b'2' = 1 y valores atipicos\n",
    "Manejar valores nulos, identificar cada una de las columnas y corregir lo que se encuentre.\n",
    "HINT: calcular el porcentaje de valores por columna es de gran ayuda, sin tener miedo a eliminar lo que no sirve.\n",
    "\"\"\"\n",
    "\n",
    "def calcular_porcentaje_vacios(fila):\n",
    "    # Calcula el número de valores vacíos en la fila\n",
    "    num_vacios = sum(1 for valor in fila if not valor.strip())\n",
    "    # Calcula el porcentaje de valores vacíos\n",
    "    porcentaje_vacios = (num_vacios / len(fila))\n",
    "    return porcentaje_vacios\n",
    "\n",
    "#Se filtran las columnas con mas de un dato faltante\n",
    "with open(file, 'r') as csvfile, open(file_filtered, 'w', newline='') as newcsv:\n",
    "    reader = csv.reader(csvfile, delimiter=',')\n",
    "    writer = csv.writer(newcsv)\n",
    "    for row in reader:\n",
    "        porcentaje_vacio = calcular_porcentaje_vacios(row)\n",
    "\n",
    "        if porcentaje_vacio < 1/16:#Antes 2/16\n",
    "            if row[-1] == \"b'1'\":\n",
    "                row[-1] = 0\n",
    "            elif row[-1] == \"b'2'\":\n",
    "                row[-1] = 1\n",
    "            elif row[-1] == \"Open\":\n",
    "                row[-1] = 0\n",
    "            if row[-1] == \"Close\" or row[-1] == \"Closed\":\n",
    "                row[-1] = 1\n",
    "            writer.writerow(row)"
   ]
  },
  {
   "cell_type": "markdown",
   "metadata": {},
   "source": [
    "#2 Balanceo de datos\n"
   ]
  },
  {
   "cell_type": "code",
   "execution_count": 117,
   "metadata": {},
   "outputs": [],
   "source": [
    "df = pd.read_csv('filtered_file.csv')\n",
    "\n",
    "count_0 = (df['Class'] == 0).sum()\n",
    "count_1 = (df['Class'] == 1).sum()\n",
    "\n",
    "diff = abs(count_0-count_1)\n",
    "\n",
    "if count_0>count_1:\n",
    "    df = df.drop(df[df['Class'] == 0].sample(n=diff).index)\n",
    "\n",
    "else:\n",
    "    df = df.drop(df[df['Class'] == 1].sample(n=diff).index)\n",
    "\n",
    "count_0 = (df['Class'] == 0).sum()\n",
    "count_1 = (df['Class'] == 1).sum()\n",
    "\n",
    "df.to_csv('filtered_file.csv', index=False)"
   ]
  },
  {
   "cell_type": "markdown",
   "metadata": {},
   "source": [
    "#3 Estandarización de datos"
   ]
  },
  {
   "cell_type": "code",
   "execution_count": 118,
   "metadata": {},
   "outputs": [],
   "source": [
    "from sklearn.preprocessing import StandardScaler\n",
    "\n",
    "df = pd.read_csv('filtered_file.csv')\n",
    "\n",
    "#Se seleccionan todas las columnas menos la ultima\n",
    "columnas_a_estandarizar = df.columns[:-1]\n",
    "\n",
    "scaler = StandardScaler()\n",
    "#Se hace el estandarizado\n",
    "df[columnas_a_estandarizar] = scaler.fit_transform(df[columnas_a_estandarizar])\n",
    "\n",
    "df.to_csv('filtered_file.csv', index=False)"
   ]
  },
  {
   "cell_type": "markdown",
   "metadata": {},
   "source": [
    "#4 Separación del data set:\n",
    "60% Train\n",
    "20% Test\n",
    "20% Validation"
   ]
  },
  {
   "cell_type": "code",
   "execution_count": 119,
   "metadata": {},
   "outputs": [],
   "source": [
    "from sklearn.model_selection import train_test_split\n",
    "\n",
    "df = pd.read_csv('filtered_file.csv')\n",
    "\n",
    "X = df.drop(columns = ['Class'])\n",
    "y = df['Class']\n",
    "\n",
    "X_train, X_temp, y_train, y_temp = train_test_split(X, y, test_size=0.4, stratify=y, random_state=42)\n",
    "\n",
    "X_test, X_val, y_test, y_val = train_test_split(X_temp, y_temp, test_size=0.5, stratify=y_temp, random_state=42)\n",
    "\n",
    "#Se tiene X_train, y_train para TRAIN, X_test, y_test para el Testeo, y X_val, y_val para la Validacion"
   ]
  },
  {
   "cell_type": "markdown",
   "metadata": {},
   "source": [
    "#5 Entrenamiento\n"
   ]
  },
  {
   "cell_type": "code",
   "execution_count": 120,
   "metadata": {},
   "outputs": [
    {
     "name": "stdout",
     "output_type": "stream",
     "text": [
      "Precisión con hiperparámetros predeterminados:\n",
      "Random Forest: 0.7748344370860927\n",
      "Decision Tree: 0.6754966887417219\n",
      "Regresión Logística: 0.5231788079470199\n"
     ]
    }
   ],
   "source": [
    "from sklearn.ensemble import RandomForestClassifier\n",
    "from sklearn.tree import DecisionTreeClassifier\n",
    "from sklearn.linear_model import LogisticRegression\n",
    "from sklearn.metrics import accuracy_score\n",
    "\n",
    "#Entrenamiento con hiperparametros default\n",
    "\n",
    "#Random Forest\n",
    "rf_default = RandomForestClassifier(random_state=42)\n",
    "rf_default.fit(X_train, y_train)\n",
    "\n",
    "#Desicion tree\n",
    "dt_default = DecisionTreeClassifier(random_state=42)\n",
    "dt_default.fit(X_train, y_train)\n",
    "\n",
    "#Logistic regresion\n",
    "lr_default = LogisticRegression(random_state=42)\n",
    "lr_default.fit(X_train, y_train)\n",
    "\n",
    "#Realizar la prediccion para el conjunto de Testeo\n",
    "rf_pred_default = rf_default.predict(X_test)\n",
    "dt_pred_default = dt_default.predict(X_test)\n",
    "lr_pred_default = lr_default.predict(X_test)\n",
    "\n",
    "#Calcular la precision de los modelos con hiperparametros default\n",
    "rf_acc_default = accuracy_score(y_test, rf_pred_default)\n",
    "dt_acc_default = accuracy_score(y_test, dt_pred_default)\n",
    "lr_acc_default = accuracy_score(y_test, lr_pred_default)\n",
    "\n",
    "\n",
    "print(\"Precisión con hiperparámetros predeterminados:\")\n",
    "print(\"Random Forest:\", rf_acc_default)\n",
    "print(\"Decision Tree:\", dt_acc_default)\n",
    "print(\"Regresión Logística:\", lr_acc_default)"
   ]
  }
 ],
 "metadata": {
  "kernelspec": {
   "display_name": "Python 3",
   "language": "python",
   "name": "python3"
  },
  "language_info": {
   "codemirror_mode": {
    "name": "ipython",
    "version": 3
   },
   "file_extension": ".py",
   "mimetype": "text/x-python",
   "name": "python",
   "nbconvert_exporter": "python",
   "pygments_lexer": "ipython3",
   "version": "3.10.7"
  }
 },
 "nbformat": 4,
 "nbformat_minor": 2
}
