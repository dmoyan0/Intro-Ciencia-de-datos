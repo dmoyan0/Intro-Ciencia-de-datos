{
 "cells": [
  {
   "cell_type": "code",
   "execution_count": 21,
   "metadata": {},
   "outputs": [],
   "source": [
    "import pandas as pd\n",
    "import csv\n"
   ]
  },
  {
   "cell_type": "markdown",
   "metadata": {},
   "source": [
    "#1 Carga y limpieza de datos\n"
   ]
  },
  {
   "cell_type": "code",
   "execution_count": 22,
   "metadata": {},
   "outputs": [],
   "source": [
    "#Archivo a trabajar\n",
    "file = 'EEG_eyes_classification.csv'\n",
    "file_filtered = 'filtered_file.csv'\n",
    "\"\"\"\n",
    "Informacion del archivo:\n",
    "-Class: b'1' = 0; b'2' = 1 y valores atipicos\n",
    "Manejar valores nulos, identificar cada una de las columnas y corregir lo que se encuentre.\n",
    "HINT: calcular el porcentaje de valores por columna es de gran ayuda, sin tener miedo a eliminar lo que no sirve.\n",
    "\"\"\"\n",
    "\n",
    "def calcular_porcentaje_vacios(fila):\n",
    "    # Calcula el número de valores vacíos en la fila\n",
    "    num_vacios = sum(1 for valor in fila if not valor.strip())\n",
    "    # Calcula el porcentaje de valores vacíos\n",
    "    porcentaje_vacios = (num_vacios / len(fila))\n",
    "    return porcentaje_vacios\n",
    "\n",
    "#Se filtran las columnas con mas de un dato faltante\n",
    "with open(file, 'r') as csvfile, open(file_filtered, 'w', newline='') as newcsv:\n",
    "    reader = csv.reader(csvfile, delimiter=',')\n",
    "    writer = csv.writer(newcsv)\n",
    "    for row in reader:\n",
    "        porcentaje_vacio = calcular_porcentaje_vacios(row)\n",
    "\n",
    "        if porcentaje_vacio < 1/16:#Antes 2/16\n",
    "            if row[-1] == \"b'1'\":\n",
    "                row[-1] = 0\n",
    "            elif row[-1] == \"b'2'\":\n",
    "                row[-1] = 1\n",
    "            elif row[-1] == \"Open\":\n",
    "                row[-1] = 0\n",
    "            if row[-1] == \"Close\" or row[-1] == \"Closed\":\n",
    "                row[-1] = 1\n",
    "            writer.writerow(row)"
   ]
  },
  {
   "cell_type": "markdown",
   "metadata": {},
   "source": [
    "#2 Balanceo de datos\n"
   ]
  },
  {
   "cell_type": "code",
   "execution_count": 23,
   "metadata": {},
   "outputs": [],
   "source": [
    "df = pd.read_csv('filtered_file.csv')\n",
    "\n",
    "count_0 = (df['Class'] == 0).sum()\n",
    "count_1 = (df['Class'] == 1).sum()\n",
    "\n",
    "diff = abs(count_0-count_1)\n",
    "\n",
    "if count_0>count_1:\n",
    "    df = df.drop(df[df['Class'] == 0].sample(n=diff).index)\n",
    "\n",
    "else:\n",
    "    df = df.drop(df[df['Class'] == 1].sample(n=diff).index)\n",
    "\n",
    "count_0 = (df['Class'] == 0).sum()\n",
    "count_1 = (df['Class'] == 1).sum()\n",
    "\n",
    "df.to_csv('filtered_file.csv', index=False)"
   ]
  },
  {
   "cell_type": "markdown",
   "metadata": {},
   "source": [
    "#3 Estandarización de datos"
   ]
  },
  {
   "cell_type": "code",
   "execution_count": 24,
   "metadata": {},
   "outputs": [],
   "source": [
    "from sklearn.preprocessing import StandardScaler\n",
    "\n",
    "df = pd.read_csv('filtered_file.csv')\n",
    "\n",
    "#Se seleccionan todas las columnas menos la ultima\n",
    "columnas_a_estandarizar = df.columns[:-1]\n",
    "\n",
    "scaler = StandardScaler()\n",
    "#Se hace el estandarizado\n",
    "df[columnas_a_estandarizar] = scaler.fit_transform(df[columnas_a_estandarizar])\n",
    "\n",
    "df.to_csv('filtered_file.csv', index=False)"
   ]
  },
  {
   "cell_type": "markdown",
   "metadata": {},
   "source": [
    "#4 Separación del data set:\n",
    "60% Train\n",
    "20% Test\n",
    "20% Validation"
   ]
  },
  {
   "cell_type": "code",
   "execution_count": 25,
   "metadata": {},
   "outputs": [],
   "source": [
    "from sklearn.model_selection import train_test_split\n",
    "\n",
    "df = pd.read_csv('filtered_file.csv')\n",
    "\n",
    "X = df.drop(columns = ['Class'])\n",
    "y = df['Class']\n",
    "\n",
    "X_train, X_temp, y_train, y_temp = train_test_split(X, y, test_size=0.4, stratify=y, random_state=42)\n",
    "\n",
    "X_test, X_val, y_test, y_val = train_test_split(X_temp, y_temp, test_size=0.5, stratify=y_temp, random_state=42)\n",
    "\n",
    "#Se tiene X_train, y_train para TRAIN, X_test, y_test para el Testeo, y X_val, y_val para la Validacion"
   ]
  },
  {
   "cell_type": "markdown",
   "metadata": {},
   "source": [
    "#5 Entrenamiento\n"
   ]
  },
  {
   "cell_type": "code",
   "execution_count": 32,
   "metadata": {},
   "outputs": [
    {
     "name": "stdout",
     "output_type": "stream",
     "text": [
      "Matriz de Confusión con el conjunto de prueba de Random Forest:\n",
      "[[55 20]\n",
      " [16 60]]\n",
      "Matriz de Confusión con el conjunto de prueba de Decision Tree:\n",
      "[[53 22]\n",
      " [19 57]]\n",
      "Matriz de Confusión con el conjunto de prueba de Regresión logística:\n",
      "[[43 32]\n",
      " [33 43]]\n",
      "------------------------------------------\n",
      "Precisión con hiperparámetros predeterminados:\n",
      "Random Forest: 0.7615894039735099\n",
      "Decision Tree: 0.7284768211920529\n",
      "Regresión Logística: 0.5695364238410596\n",
      "------------------------------------------\n",
      "Precisión con hiperparámetros optimizados:\n",
      "Random Forest: 0.7483443708609272\n",
      "Decision Tree: 0.7284768211920529\n",
      "Regresión Logística: 0.5496688741721855\n"
     ]
    }
   ],
   "source": [
    "from sklearn.ensemble import RandomForestClassifier\n",
    "from sklearn.tree import DecisionTreeClassifier\n",
    "from sklearn.linear_model import LogisticRegression\n",
    "from sklearn.metrics import accuracy_score, confusion_matrix\n",
    "from sklearn.model_selection import RandomizedSearchCV, GridSearchCV\n",
    "\n",
    "#Entrenamiento con hiperparametros default\n",
    "\n",
    "#Random Forest\n",
    "rf_default = RandomForestClassifier(random_state=42)\n",
    "rf_default.fit(X_train, y_train)\n",
    "\n",
    "#Desicion tree\n",
    "dt_default = DecisionTreeClassifier(random_state=42)\n",
    "dt_default.fit(X_train, y_train)\n",
    "\n",
    "#Logistic regresion\n",
    "lr_default = LogisticRegression(random_state=42)\n",
    "lr_default.fit(X_train, y_train)\n",
    "\n",
    "#Realizar la prediccion para el conjunto de Testeo\n",
    "rf_pred_default = rf_default.predict(X_test)\n",
    "dt_pred_default = dt_default.predict(X_test)\n",
    "lr_pred_default = lr_default.predict(X_test)\n",
    "\n",
    "#Calcular la precision de los modelos con hiperparametros default\n",
    "rf_acc_default = accuracy_score(y_test, rf_pred_default)\n",
    "dt_acc_default = accuracy_score(y_test, dt_pred_default)\n",
    "lr_acc_default = accuracy_score(y_test, lr_pred_default)\n",
    "\n",
    "# Calcular matriz de confusión\n",
    "conf_matrix_test = confusion_matrix(y_test, rf_pred_default)\n",
    "print(\"Matriz de Confusión con el conjunto de prueba de Random Forest:\")\n",
    "print(conf_matrix_test)\n",
    "conf_matrix_test = confusion_matrix(y_test, dt_pred_default)\n",
    "print(\"Matriz de Confusión con el conjunto de prueba de Decision Tree:\")\n",
    "print(conf_matrix_test)\n",
    "conf_matrix_test = confusion_matrix(y_test, lr_pred_default)\n",
    "print(\"Matriz de Confusión con el conjunto de prueba de Regresión logística:\")\n",
    "print(conf_matrix_test)\n",
    "\n",
    "print(\"------------------------------------------\")\n",
    "\n",
    "print(\"Precisión con hiperparámetros predeterminados:\")\n",
    "print(\"Random Forest:\", rf_acc_default)\n",
    "print(\"Decision Tree:\", dt_acc_default)\n",
    "print(\"Regresión Logística:\", lr_acc_default)\n",
    "\n",
    "# Definir los rangos de hiperparámetros para la búsqueda\n",
    "rf_param_grid = {'n_estimators': [10, 50, 100],\n",
    "                 'max_depth': [None, 10, 20]}\n",
    "\n",
    "dt_param_grid = {'max_depth': [None, 10, 20],\n",
    "                 'min_samples_split': [2, 5, 10]}\n",
    "\n",
    "lr_param_grid = {'C': [0.001, 0.01, 0.1, 1, 10, 100]}\n",
    "\n",
    "# Realizar la búsqueda de hiperparámetros utilizando RandomizedSearchCV o GridSearchCV\n",
    "rf_random_search = RandomizedSearchCV(RandomForestClassifier(random_state=42), rf_param_grid, n_iter=9, cv=5, random_state=42)\n",
    "dt_grid_search = GridSearchCV(DecisionTreeClassifier(random_state=42), dt_param_grid, cv=5)\n",
    "lr_grid_search = GridSearchCV(LogisticRegression(random_state=42), lr_param_grid, cv=5)\n",
    "\n",
    "\n",
    "# Entrenar los modelos con los mejores hiperparámetros encontrados\n",
    "rf_random_search.fit(X_train, y_train)\n",
    "dt_grid_search.fit(X_train, y_train)\n",
    "lr_grid_search.fit(X_train, y_train)\n",
    "\n",
    "\n",
    "# Obtener los mejores modelos\n",
    "rf_best = rf_random_search.best_estimator_\n",
    "dt_best = dt_grid_search.best_estimator_\n",
    "lr_best = lr_grid_search.best_estimator_\n",
    "\n",
    "# Realizar predicciones en el conjunto de prueba utilizando los mejores modelos\n",
    "rf_pred_best = rf_best.predict(X_test)\n",
    "dt_pred_best = dt_best.predict(X_test)\n",
    "lr_pred_best = lr_best.predict(X_test)\n",
    "\n",
    "# Calcular la precisión de los modelos con los mejores hiperparámetros\n",
    "rf_acc_best = accuracy_score(y_test, rf_pred_best)\n",
    "dt_acc_best = accuracy_score(y_test, dt_pred_best)\n",
    "lr_acc_best = accuracy_score(y_test, lr_pred_best)\n",
    "\n",
    "print(\"------------------------------------------\")\n",
    "print(\"Precisión con hiperparámetros optimizados:\")\n",
    "print(\"Random Forest:\", rf_acc_best)\n",
    "print(\"Decision Tree:\", dt_acc_best)\n",
    "print(\"Regresión Logística:\", lr_acc_best)"
   ]
  },
  {
   "cell_type": "markdown",
   "metadata": {},
   "source": [
    "#7 Elija un modelo y explique por qué es el mejor en base a los resultados obtenidos y muestre las variables más importantes."
   ]
  },
  {
   "cell_type": "markdown",
   "metadata": {},
   "source": [
    "Según los datos obtenidos anteriormente, podemos decir con seguridad de que el mejor modelo será el de Random Forest, debido a que según la precisión fue el que tuvo mejor desempeño y según la matriz de confusión obtuvo la menor cantidad de datos erroneos."
   ]
  },
  {
   "cell_type": "markdown",
   "metadata": {},
   "source": [
    "A continuación se mostrarán las variables más relevantes en función con su importancia para las predicciones del modelo"
   ]
  },
  {
   "cell_type": "code",
   "execution_count": 35,
   "metadata": {},
   "outputs": [
    {
     "name": "stdout",
     "output_type": "stream",
     "text": [
      "Características más importantes:\n",
      "   Etiqueta  Importancia\n",
      "6        V7     0.146127\n",
      "5        V6     0.090011\n",
      "12      V13     0.078931\n",
      "13      V14     0.069963\n",
      "11      V12     0.069547\n",
      "1        V2     0.065134\n",
      "8        V9     0.063885\n",
      "7        V8     0.058757\n",
      "0        V1     0.058478\n",
      "2        V3     0.054135\n"
     ]
    }
   ],
   "source": [
    "# Obtener la importancia de las características del modelo de Random Forest\n",
    "feature_importance = rf_best.feature_importances_\n",
    "\n",
    "# Crear un DataFrame para visualizar las características y su importancia\n",
    "feature_importance_df = pd.DataFrame({'Etiqueta': X.columns, 'Importancia': feature_importance})\n",
    "feature_importance_df = feature_importance_df.sort_values(by='Importancia', ascending=False)\n",
    "\n",
    "# Mostrar las características más importantes\n",
    "print(\"Características más importantes:\")\n",
    "print(feature_importance_df.head(10))"
   ]
  },
  {
   "cell_type": "markdown",
   "metadata": {},
   "source": [
    "#7 Grafico datos predichos por Random Forest v/s datos reales"
   ]
  },
  {
   "cell_type": "code",
   "execution_count": 41,
   "metadata": {},
   "outputs": [
    {
     "data": {
      "image/png": "[encoded data removed]",
      "text/plain": [
       "<Figure size 1000x600 with 1 Axes>"
      ]
     },
     "metadata": {},
     "output_type": "display_data"
    }
   ],
   "source": [
    "import matplotlib.pyplot as plt\n",
    "\n",
    "# Graficar los datos predichos vs los datos reales\n",
    "plt.figure(figsize=(10, 6))\n",
    "plt.scatter(y_test, rf_pred_best, color='blue', label='Predicho vs Real')\n",
    "plt.plot([min(y_test), max(y_test)], [min(y_test), max(y_test)], color='red', linestyle='--', label='Línea de 45 grados')\n",
    "plt.xlabel('Datos Reales')\n",
    "plt.ylabel('Datos Predichos')\n",
    "plt.title('Datos Predichos vs Datos Reales (Random Forest)')\n",
    "plt.legend()\n",
    "plt.show()"
   ]
  }
 ],
 "metadata": {
  "kernelspec": {
   "display_name": "Python 3",
   "language": "python",
   "name": "python3"
  },
  "language_info": {
   "codemirror_mode": {
    "name": "ipython",
    "version": 3
   },
   "file_extension": ".py",
   "mimetype": "text/x-python",
   "name": "python",
   "nbconvert_exporter": "python",
   "pygments_lexer": "ipython3",
   "version": "3.10.7"
  }
 },
 "nbformat": 4,
 "nbformat_minor": 2
}
