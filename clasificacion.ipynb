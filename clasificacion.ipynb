{
 "cells": [
  {
   "cell_type": "markdown",
   "metadata": {},
   "source": [
    "#1\n"
   ]
  },
  {
   "cell_type": "code",
   "execution_count": 13,
   "metadata": {},
   "outputs": [
    {
     "name": "stdout",
     "output_type": "stream",
     "text": [
      "14981 14487\n"
     ]
    }
   ],
   "source": [
    "#Archivo a trabajar\n",
    "import csv\n",
    "\n",
    "file = 'EEG_eyes_classification.csv'\n",
    "file_filtered = 'filtered_file.csv'\n",
    "\"\"\"\n",
    "Informacion del archivo:\n",
    "-Class: b'1' = 0; b'2' = 1 y valores atipicos\n",
    "Manejar valores nulos, identificar cada una de las columnas y corregir lo que se encuentre.\n",
    "HINT: calcular el porcentaje de valores por columna es de gran ayuda, sin tener miedo a eliminar lo que no sirve.\n",
    "\"\"\"\n",
    "\n",
    "def calcular_porcentaje_vacios(fila):\n",
    "    # Calcula el número de valores vacíos en la fila\n",
    "    num_vacios = sum(1 for valor in fila if not valor.strip())\n",
    "    # Calcula el porcentaje de valores vacíos\n",
    "    porcentaje_vacios = (num_vacios / len(fila))\n",
    "    return porcentaje_vacios\n",
    "cont1 = 0\n",
    "cont2 = 0\n",
    "with open(file, 'r') as csvfile, open(file_filtered, 'w', newline='') as newcsv:\n",
    "    reader = csv.reader(csvfile, delimiter=',')\n",
    "    writer = csv.writer(newcsv)\n",
    "    for row in reader:\n",
    "        cont1+=1\n",
    "        porcentaje_vacio = calcular_porcentaje_vacios(row)\n",
    "\n",
    "        if porcentaje_vacio < 2/16:\n",
    "            writer.writerow(row)\n",
    "with open(file_filtered, 'r') as csvfile:\n",
    "    reader = csv.reader(csvfile, delimiter=',')\n",
    "    for row in reader:\n",
    "        cont2+=1\n",
    "print(cont1, cont2)\n"
   ]
  }
 ],
 "metadata": {
  "kernelspec": {
   "display_name": "Python 3",
   "language": "python",
   "name": "python3"
  },
  "language_info": {
   "codemirror_mode": {
    "name": "ipython",
    "version": 3
   },
   "file_extension": ".py",
   "mimetype": "text/x-python",
   "name": "python",
   "nbconvert_exporter": "python",
   "pygments_lexer": "ipython3",
   "version": "3.10.7"
  }
 },
 "nbformat": 4,
 "nbformat_minor": 2
}
